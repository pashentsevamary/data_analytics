{
 "cells": [
  {
   "cell_type": "code",
   "execution_count": 4,
   "metadata": {},
   "outputs": [],
   "source": [
    "import pandas as pd\n",
    "import numpy as np\n",
    "import seaborn as sns\n",
    "import matplotlib.pyplot as plt\n",
    "import scipy.stats as stats"
   ]
  },
  {
   "cell_type": "markdown",
   "metadata": {},
   "source": [
    "Известно, что одна из линий по расфасовке чипсов даёт упаковки с более вариабельным весом продукта, чем вторая.\n",
    "Дисперсии равны 0.000576 г^2 и 0.001089 г^2 соответственно, средние значения веса в выборках из 100 и 98 элементов — 80.02 г и 79.98 г.\n",
    "\n",
    "двусторонняя гипотеза:\n",
    "\n",
    "H0 : средний вес продукта в упаковках, произведённых на двух линиях,\n",
    "совпадает.\n",
    "\n",
    "H1 : средние веса продукта в упаковках, произведённых на двух линиях,\n",
    "различаются \n",
    "\n",
    "Определим уровень значимости. Берем a = 0.01"
   ]
  },
  {
   "cell_type": "code",
   "execution_count": 187,
   "metadata": {},
   "outputs": [],
   "source": [
    "ex_1 = np.random.normal(80.02,0.000576,100)\n",
    "ex_2 = np.random.normal(79.98,0.001089,98)"
   ]
  },
  {
   "cell_type": "code",
   "execution_count": 188,
   "metadata": {
    "scrolled": false
   },
   "outputs": [
    {
     "data": {
      "text/plain": [
       "Text(0.5, 1.0, 'test')"
      ]
     },
     "execution_count": 188,
     "metadata": {},
     "output_type": "execute_result"
    },
    {
     "data": {
      "image/png": "[encoded data removed]",
      "text/plain": [
       "<Figure size 864x360 with 2 Axes>"
      ]
     },
     "metadata": {
      "needs_background": "light"
     },
     "output_type": "display_data"
    }
   ],
   "source": [
    "f= plt.figure(figsize=(12,5))\n",
    "\n",
    "ax=f.add_subplot(121)\n",
    "sns.distplot(ex_1,color = 'pink',hist = True, kde = False,ax = ax)\n",
    "ax.set_title('control')\n",
    "\n",
    "ax=f.add_subplot(122)\n",
    "sns.distplot(ex_2,color = 'blue',hist = True, kde = False,ax=ax)\n",
    "ax.set_title('test')"
   ]
  },
  {
   "cell_type": "code",
   "execution_count": 189,
   "metadata": {},
   "outputs": [
    {
     "name": "stdout",
     "output_type": "stream",
     "text": [
      "Средний чек в контрольной группе =  80.01995129002131\n",
      "Средний чек в заказ в тестовой группе =  79.97978719730344\n"
     ]
    }
   ],
   "source": [
    "mean_b = np.mean(ex_2)\n",
    "mean_a = np.mean( ex_1)\n",
    "print('Средний вес пачки в первой группе = ',mean_a)\n",
    "print('Средний вес пачки во второй группе = ',mean_b)"
   ]
  },
  {
   "cell_type": "code",
   "execution_count": 190,
   "metadata": {},
   "outputs": [
    {
     "name": "stdout",
     "output_type": "stream",
     "text": [
      "Разница выборочных средних =  -0.040164092717873245\n"
     ]
    }
   ],
   "source": [
    "mean_diff = mean_b - mean_a\n",
    "print('Разница выборочных средних = ',mean_diff)"
   ]
  },
  {
   "cell_type": "code",
   "execution_count": 191,
   "metadata": {},
   "outputs": [
    {
     "name": "stdout",
     "output_type": "stream",
     "text": [
      "Дисперсия распределения разности средних =  0.004284653391642833\n",
      "дисперсии =  0.0006446651120611979 0.0011673371494586365\n"
     ]
    }
   ],
   "source": [
    "#количество элементов в выборках\n",
    "n1 = len(ex_1)\n",
    "n2 = len(ex_2)\n",
    "\n",
    "#дисперсии\n",
    "var_a =  np.std(ex_1, ddof=0)\n",
    "var_b = np.std(ex_2, ddof=0)\n",
    "\n",
    "#Дисперсия распределения разности средних\n",
    "sem = np.sqrt(var_a/n1 + var_b/n2)\n",
    "\n",
    "print('Дисперсия распределения разности средних = ',sem)\n",
    "print('дисперсии = ',var_a, var_b)"
   ]
  },
  {
   "cell_type": "code",
   "execution_count": 192,
   "metadata": {},
   "outputs": [
    {
     "name": "stdout",
     "output_type": "stream",
     "text": [
      "z-критерий = -9.37394207807167\n"
     ]
    }
   ],
   "source": [
    "z = mean_diff/sem\n",
    "print('z-критерий =',z)"
   ]
  },
  {
   "cell_type": "code",
   "execution_count": 193,
   "metadata": {},
   "outputs": [
    {
     "name": "stdout",
     "output_type": "stream",
     "text": [
      "Есть статистически значимая разница \n",
      "z - критерий =  -9.37394207807167 \n",
      "p-value = 6.98729455795886e-21\n"
     ]
    }
   ],
   "source": [
    "#степени свободы\n",
    "df = (n1 + n2) - 2\n",
    "\n",
    "#p - value\n",
    "#p = 1-stats.norm.cdf(z, mean_diff, sem)\n",
    "#p= stats.norm.cdf(z,np.mean(diff),np.std(diff))\n",
    "p= stats.norm.cdf(z, loc=0, scale=1)*2\n",
    "\n",
    "if p > 0.05:\n",
    "    print('Нет статистически значимой разницы','\\nz - критерий = ',z,'\\np-value =',p)\n",
    "else:\n",
    "    print('Есть статистически значимая разница','\\nz - критерий = ',z,'\\np-value =',p)"
   ]
  },
  {
   "cell_type": "markdown",
   "metadata": {},
   "source": [
    "Известно, что одна из линий по расфасовке чипсов даёт упаковки с более вариабельным весом продукта, чем вторая.\n",
    "Дисперсии равны 0.000576 г^2 и 0.001089 г^2 соответственно, средние значения веса в выборках из 100 и 98 элементов — 80.02 г и 79.98 г.\n",
    "\n",
    "левостороння гипотеза:\n",
    "\n",
    "H0 : средний вес продукта в упаковках, произведённых на двух линиях,\n",
    "совпадает.\n",
    "\n",
    "H1 : средние веса продукта в упаковках, произведённых на двух линиях,\n",
    "различаются и на первой линии вес меньше, чем во второй\n",
    "\n",
    "Определим уровень значимости. Берем a = 0.01"
   ]
  },
  {
   "cell_type": "code",
   "execution_count": 199,
   "metadata": {},
   "outputs": [
    {
     "name": "stdout",
     "output_type": "stream",
     "text": [
      "Не можем отвергнуть нулевую гипотезу о том, что средний вес продукта в упаковках, произведённых на двух линиях,совпадает \n",
      "z - критерий =  -9.37394207807167 \n",
      "p-value = 1.0\n"
     ]
    }
   ],
   "source": [
    "p= 1-stats.norm.cdf(z, loc=0, scale=1)\n",
    "\n",
    "if p > 0.05:\n",
    "    print('Не можем отвергнуть нулевую гипотезу о том, что средний вес продукта в упаковках, произведённых на двух линиях,совпадает','\\nz - критерий = ',z,'\\np-value =',p)\n",
    "else:\n",
    "    print('Можем отвергнуть нулевую гипотезу о том, что на первой линии вес меньше, чем во второй','\\nz - критерий = ',z,'\\np-value =',p)"
   ]
  },
  {
   "cell_type": "markdown",
   "metadata": {},
   "source": [
    "Известно, что одна из линий по расфасовке чипсов даёт упаковки с более вариабельным весом продукта, чем вторая.\n",
    "Дисперсии равны 0.000576 г^2 и 0.001089 г^2 соответственно, средние значения веса в выборках из 100 и 98 элементов — 80.02 г и 79.98 г.\n",
    "\n",
    "правостороняя гипотеза:\n",
    "\n",
    "H0 : средний вес продукта в упаковках, произведённых на двух линиях,\n",
    "совпадает.\n",
    "\n",
    "H1 : средние веса продукта в упаковках, произведённых на двух линиях,\n",
    "различаются и на первой линии вес больше, чем во второй\n",
    "\n",
    "Определим уровень значимости. Берем a = 0.01"
   ]
  },
  {
   "cell_type": "code",
   "execution_count": 200,
   "metadata": {},
   "outputs": [
    {
     "name": "stdout",
     "output_type": "stream",
     "text": [
      "Можем отвергнуть нулевую гипотезу о том, что средний вес продукта в упаковках, произведённых на двух линиях,совпадает \n",
      "z - критерий =  -9.37394207807167 \n",
      "p-value = 3.49364727897943e-21\n"
     ]
    }
   ],
   "source": [
    "p= stats.norm.cdf(z, loc=0, scale=1)\n",
    "\n",
    "if p > 0.05:\n",
    "    print('Не можем отвергнуть нулевую гипотезу о том, что средний вес продукта в упаковках, произведённых на двух линиях,совпадает','\\nz - критерий = ',z,'\\np-value =',p)\n",
    "else:\n",
    "    print('Можем отвергнуть нулевую гипотезу о том, что средний вес продукта в упаковках, произведённых на двух линиях,совпадает','\\nz - критерий = ',z,'\\np-value =',p)"
   ]
  },
  {
   "cell_type": "code",
   "execution_count": null,
   "metadata": {},
   "outputs": [],
   "source": []
  },
  {
   "cell_type": "code",
   "execution_count": null,
   "metadata": {},
   "outputs": [],
   "source": []
  }
 ],
 "metadata": {
  "kernelspec": {
   "display_name": "Python 3",
   "language": "python",
   "name": "python3"
  },
  "language_info": {
   "codemirror_mode": {
    "name": "ipython",
    "version": 3
   },
   "file_extension": ".py",
   "mimetype": "text/x-python",
   "name": "python",
   "nbconvert_exporter": "python",
   "pygments_lexer": "ipython3",
   "version": "3.7.6"
  }
 },
 "nbformat": 4,
 "nbformat_minor": 4
}
