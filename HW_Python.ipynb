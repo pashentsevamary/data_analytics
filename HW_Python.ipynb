{
 "cells": [
  {
   "cell_type": "code",
   "execution_count": 12,
   "metadata": {},
   "outputs": [
    {
     "name": "stdout",
     "output_type": "stream",
     "text": [
      "7\n",
      "13\n"
     ]
    }
   ],
   "source": [
    "#По данному числу n определите n-е число Фибоначчи\n",
    "\n",
    "n = int(input())\n",
    "a1 = a2 = 1\n",
    "for i in range(2, n):\n",
    "    a1, a2 = a2, a1 + a2\n",
    "print(a2)"
   ]
  },
  {
   "cell_type": "code",
   "execution_count": 13,
   "metadata": {},
   "outputs": [
    {
     "name": "stdout",
     "output_type": "stream",
     "text": [
      "3\n",
      "2\n",
      "-15\n",
      "71\n",
      "[  2   0 -15   0  71]\n"
     ]
    }
   ],
   "source": [
    "#Реализуйте функцию, которая на вход принимает\n",
    "#вектор x, содержащий целые числа, кроме 0, а\n",
    "#возвращает вектор со вставленными нулями\n",
    "#между числами.\n",
    "\n",
    "import numpy as np\n",
    "def input_zeros(a):\n",
    "    return np.insert(a, range(1, len(a)), 0)\n",
    "\n",
    "a = []\n",
    "for i in range(int(input())):\n",
    "    a.append(int(input()))\n",
    "print(input_zeros(a))"
   ]
  }
 ],
 "metadata": {
  "kernelspec": {
   "display_name": "Python 3",
   "language": "python",
   "name": "python3"
  },
  "language_info": {
   "codemirror_mode": {
    "name": "ipython",
    "version": 3
   },
   "file_extension": ".py",
   "mimetype": "text/x-python",
   "name": "python",
   "nbconvert_exporter": "python",
   "pygments_lexer": "ipython3",
   "version": "3.7.6"
  }
 },
 "nbformat": 4,
 "nbformat_minor": 4
}
