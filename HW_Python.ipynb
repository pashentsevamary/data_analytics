{
 "cells": [
  {
   "cell_type": "code",
   "execution_count": 6,
   "metadata": {
    "scrolled": true
   },
   "outputs": [],
   "source": [
    "import sys\n",
    "import numpy as np\n",
    "import pandas as pd\n",
    "import plotly.graph_objects as go\n",
    "import seaborn as sns\n",
    "import matplotlib.pyplot as plt\n"
   ]
  },
  {
   "cell_type": "code",
   "execution_count": 8,
   "metadata": {},
   "outputs": [
    {
     "name": "stdout",
     "output_type": "stream",
     "text": [
      "Requirement already satisfied: plotly in c:\\users\\marus\\anaconda3\\lib\\site-packages (4.6.0)\n",
      "Requirement already satisfied: retrying>=1.3.3 in c:\\users\\marus\\anaconda3\\lib\\site-packages (from plotly) (1.3.3)\n",
      "Requirement already satisfied: six in c:\\users\\marus\\anaconda3\\lib\\site-packages (from plotly) (1.14.0)\n"
     ]
    }
   ],
   "source": [
    "!pip install plotly"
   ]
  },
  {
   "cell_type": "code",
   "execution_count": 9,
   "metadata": {
    "scrolled": true
   },
   "outputs": [
    {
     "name": "stdout",
     "output_type": "stream",
     "text": [
      "9\n",
      "34\n"
     ]
    }
   ],
   "source": [
    "#По данному числу n определите n-е число Фибоначчи\n",
    "\n",
    "n = int(input())\n",
    "a1 = a2 = 1\n",
    "for i in range(2, n):\n",
    "    a1, a2 = a2, a1 + a2\n",
    "print(a2)\n"
   ]
  },
  {
   "cell_type": "code",
   "execution_count": 9,
   "metadata": {},
   "outputs": [
    {
     "name": "stdout",
     "output_type": "stream",
     "text": [
      "1\n",
      "2\n",
      "[2]\n"
     ]
    }
   ],
   "source": [
    "#Реализуйте функцию, которая на вход принимает\n",
    "#вектор x, содержащий целые числа, кроме 0, а\n",
    "#возвращает вектор со вставленными нулями\n",
    "#между числами.\n",
    "\n",
    "import numpy as np\n",
    "def input_zeros(a):\n",
    "    return np.insert(a, range(1, len(a)), 0)\n",
    "\n",
    "a = []\n",
    "for i in range(int(input())):\n",
    "    a.append(int(input()))\n",
    "print(input_zeros(a))"
   ]
  }
 ],
 "metadata": {
  "kernelspec": {
   "display_name": "Python 3",
   "language": "python",
   "name": "python3"
  },
  "language_info": {
   "codemirror_mode": {
    "name": "ipython",
    "version": 3
   },
   "file_extension": ".py",
   "mimetype": "text/x-python",
   "name": "python",
   "nbconvert_exporter": "python",
   "pygments_lexer": "ipython3",
   "version": "3.7.6"
  }
 },
 "nbformat": 4,
 "nbformat_minor": 4
}
